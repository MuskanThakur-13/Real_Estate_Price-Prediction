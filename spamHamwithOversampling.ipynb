{
  "nbformat": 4,
  "nbformat_minor": 0,
  "metadata": {
    "colab": {
      "provenance": [],
      "authorship_tag": "ABX9TyNTDsyAsvd4aDgMMnvNFiML"
    },
    "kernelspec": {
      "name": "python3",
      "display_name": "Python 3"
    },
    "language_info": {
      "name": "python"
    }
  },
  "cells": [
    {
      "cell_type": "code",
      "execution_count": null,
      "metadata": {
        "id": "zHMH8Nv4iP59"
      },
      "outputs": [],
      "source": [
        "import numpy as np\n",
        "import pandas as pd\n",
        "import matplotlib.pyplot as plt\n",
        "import seaborn as sns\n",
        "     "
      ]
    },
    {
      "cell_type": "code",
      "source": [
        "from sklearn.model_selection import train_test_split\n",
        "from sklearn.ensemble import RandomForestClassifier\n",
        "from sklearn.naive_bayes import MultinomialNB\n",
        "from sklearn.linear_model import LogisticRegression\n",
        "from sklearn.neighbors import KNeighborsClassifier\n",
        "from sklearn.svm import LinearSVC, SVC\n",
        "from time import perf_counter"
      ],
      "metadata": {
        "id": "VLu5dzZUiTi9"
      },
      "execution_count": null,
      "outputs": []
    },
    {
      "cell_type": "code",
      "source": [
        "from google.colab import files\n",
        "data = files.upload()"
      ],
      "metadata": {
        "id": "HkeP_Jk3iTlS"
      },
      "execution_count": null,
      "outputs": []
    },
    {
      "cell_type": "code",
      "source": [
        "data = pd.read_csv('final_data.csv')"
      ],
      "metadata": {
        "id": "WtUMCAgdiToB"
      },
      "execution_count": null,
      "outputs": []
    },
    {
      "cell_type": "code",
      "source": [
        "data.head()"
      ],
      "metadata": {
        "id": "fg_wbfT3iTqz"
      },
      "execution_count": null,
      "outputs": []
    },
    {
      "cell_type": "code",
      "source": [
        "data['label'].value_counts()"
      ],
      "metadata": {
        "id": "8BdsjnamiTtN"
      },
      "execution_count": null,
      "outputs": []
    },
    {
      "cell_type": "code",
      "source": [
        "data['label'].value_counts().plot.bar(color = [\"g\",\"r\"])"
      ],
      "metadata": {
        "id": "ZfGq_cokiTvd"
      },
      "execution_count": null,
      "outputs": []
    },
    {
      "cell_type": "code",
      "source": [
        "import re\n",
        "import nltk\n",
        "     "
      ],
      "metadata": {
        "id": "gtyWsNn3iTyH"
      },
      "execution_count": null,
      "outputs": []
    },
    {
      "cell_type": "code",
      "source": [
        "from nltk.corpus import stopwords"
      ],
      "metadata": {
        "id": "vPkulA7KiT1n"
      },
      "execution_count": null,
      "outputs": []
    },
    {
      "cell_type": "code",
      "source": [
        "from nltk.stem import WordNetLemmatizer\n",
        "lemmatizer = WordNetLemmatizer()"
      ],
      "metadata": {
        "id": "7gFPFPg5iwQW"
      },
      "execution_count": null,
      "outputs": []
    },
    {
      "cell_type": "code",
      "source": [
        "def clean_data(feature):\n",
        "    feature = re.sub('','',feature)\n",
        "    feature = re.sub('https?://','', feature)\n",
        "    feature = re.sub('[^0-9a-zA-Z\\s]', '', feature)\n",
        "    return feature\n",
        "\n",
        "data['text'] = data['text'].apply(clean_data)"
      ],
      "metadata": {
        "id": "dX2F_gc-iwSy"
      },
      "execution_count": null,
      "outputs": []
    },
    {
      "cell_type": "code",
      "source": [
        "nltk.download('stopwords')\n",
        "nltk.download('wordnet')\n",
        "nltk.download('omw-1.4')"
      ],
      "metadata": {
        "id": "lcRN4XYEiwUm"
      },
      "execution_count": null,
      "outputs": []
    },
    {
      "cell_type": "code",
      "source": [
        "def lemmatize_data(rev):\n",
        "   \n",
        "    rev = rev.lower()\n",
        "    rev = rev.split()\n",
        "    rev = [lemmatizer.lemmatize(word) for word in rev if word not in set(stopwords.words('english'))]\n",
        "    rev = ' '.join(rev)\n",
        "       \n",
        "    return rev\n",
        "\n",
        "data['text'] = data['text'].apply(lemmatize_data)"
      ],
      "metadata": {
        "id": "COHnG_T4i6OM"
      },
      "execution_count": null,
      "outputs": []
    },
    {
      "cell_type": "code",
      "source": [
        "from sklearn.feature_extraction.text import TfidfVectorizer\n",
        "vectorizer = TfidfVectorizer()\n",
        "X = vectorizer.fit_transform(data['text']).toarray()"
      ],
      "metadata": {
        "id": "UvXQOLCXi6Qj"
      },
      "execution_count": null,
      "outputs": []
    },
    {
      "cell_type": "code",
      "source": [
        "y = np.array(data['label_num'])"
      ],
      "metadata": {
        "id": "OjOJqKqFi6St"
      },
      "execution_count": null,
      "outputs": []
    },
    {
      "cell_type": "code",
      "source": [
        "X_train, X_test, y_train, y_test = train_test_split(X, y, test_size=0.2, random_state=0)"
      ],
      "metadata": {
        "id": "c6vxHPz_i6WR"
      },
      "execution_count": null,
      "outputs": []
    },
    {
      "cell_type": "code",
      "source": [
        "import plotly.express as px\n",
        "from sklearn.decomposition import PCA"
      ],
      "metadata": {
        "id": "u8u5_pHWiwWo"
      },
      "execution_count": null,
      "outputs": []
    },
    {
      "cell_type": "code",
      "source": [
        "pca2D = PCA(n_components=2)\n",
        "components = pca2D.fit_transform(X_train)\n",
        "\n",
        "fig = px.scatter(components, x = 0, y = 1, color=y_train)\n",
        "fig.show()"
      ],
      "metadata": {
        "id": "RQEgV5aCjEFX"
      },
      "execution_count": null,
      "outputs": []
    },
    {
      "cell_type": "code",
      "source": [
        "from imblearn.over_sampling import SMOTE"
      ],
      "metadata": {
        "id": "pP4w1tjCjEHb"
      },
      "execution_count": null,
      "outputs": []
    },
    {
      "cell_type": "code",
      "source": [
        "from collections import Counter"
      ],
      "metadata": {
        "id": "uoUX2woUjEK-"
      },
      "execution_count": null,
      "outputs": []
    },
    {
      "cell_type": "code",
      "source": [
        "models = {\n",
        "    \"Random Forest\": {\"model\":RandomForestClassifier(), \"perf\":0},\n",
        "    \"MultinomialNB\": {\"model\":MultinomialNB(), \"perf\":0},\n",
        "    \"Logistic Regr.\": {\"model\":LogisticRegression(), \"perf\":0},\n",
        "    \"KNN\": {\"model\":KNeighborsClassifier(), \"perf\":0},\n",
        "    \"SVM (Linear)\": {\"model\":LinearSVC(), \"perf\":0},\n",
        "    \"SVM (RBF)\": {\"model\":SVC(), \"perf\":0}\n",
        "}"
      ],
      "metadata": {
        "id": "4FtlrcKxiwZB"
      },
      "execution_count": null,
      "outputs": []
    },
    {
      "cell_type": "code",
      "source": [
        "models_stats = []"
      ],
      "metadata": {
        "id": "EOW6njnViwaz"
      },
      "execution_count": null,
      "outputs": []
    },
    {
      "cell_type": "code",
      "source": [
        "oversampler_smote = SMOTE()\n",
        "X_smote, y_smote = oversampler_smote.fit_resample(X_train, y_train)"
      ],
      "metadata": {
        "id": "_zPNkI9cjP08"
      },
      "execution_count": null,
      "outputs": []
    },
    {
      "cell_type": "code",
      "source": [
        "counter_smote = Counter(y_smote)\n",
        "counter_smote"
      ],
      "metadata": {
        "id": "sq_n4kqhjP3a"
      },
      "execution_count": null,
      "outputs": []
    },
    {
      "cell_type": "code",
      "source": [
        "pca2D = PCA(n_components=2)\n",
        "components = pca2D.fit_transform(X_smote)\n",
        "\n",
        "fig = px.scatter(components, x = 0, y = 1, color=y_smote)\n",
        "fig.show()"
      ],
      "metadata": {
        "id": "JPHSf-_GjP60"
      },
      "execution_count": null,
      "outputs": []
    },
    {
      "cell_type": "code",
      "source": [
        "for name, model in models.items():\n",
        "    start = perf_counter()\n",
        "    model['model'].fit(X_smote, y_smote)\n",
        "    duration = perf_counter() - start\n",
        "    duration = round(duration,2)\n",
        "    model[\"perf\"] = duration\n",
        "    print(f\"{name:20} trained in {duration} sec\")"
      ],
      "metadata": {
        "id": "6IcGZQ7JjWtz"
      },
      "execution_count": null,
      "outputs": []
    },
    {
      "cell_type": "code",
      "source": [
        "models_acc = []\n",
        "for name, model in models.items():\n",
        "    models_acc.append([name, model[\"model\"].score(X_test, y_test),model[\"perf\"]])"
      ],
      "metadata": {
        "id": "W2FZ3jjtjWwR"
      },
      "execution_count": null,
      "outputs": []
    },
    {
      "cell_type": "code",
      "source": [
        "df_acc = pd.DataFrame(models_acc)\n",
        "df_acc.columns = ['Model', 'Accuracy without scaling (test set)', 'Training time (sec)']\n",
        "df_acc.sort_values(by = 'Accuracy without scaling (test set)', ascending = False, inplace=True)\n",
        "df_acc.reset_index(drop = True, inplace=True)\n",
        "df_acc"
      ],
      "metadata": {
        "id": "jjYkK1ZSjWyQ"
      },
      "execution_count": null,
      "outputs": []
    },
    {
      "cell_type": "code",
      "source": [
        "plt.figure(figsize = (15,5))\n",
        "sns.barplot(x = 'Model', y = 'Accuracy without scaling (test set)', data = df_acc)\n",
        "plt.title('Accuracy on the test set\\n(Training set oversampled with SMOTE)', fontsize = 15)\n",
        "plt.ylim(0.8,1)\n",
        "plt.show()\n",
        "     "
      ],
      "metadata": {
        "id": "IbrfED51jdfV"
      },
      "execution_count": null,
      "outputs": []
    },
    {
      "cell_type": "code",
      "source": [
        "plt.figure(figsize = (15,5))\n",
        "sns.barplot(x = 'Model', y = 'Training time (sec)', data = df_acc)\n",
        "plt.title('Training time for each model in sec with oversampled data', fontsize = 15)\n",
        "plt.ylim(0,100)\n",
        "plt.show()"
      ],
      "metadata": {
        "id": "B1VyH0cbjdiu"
      },
      "execution_count": null,
      "outputs": []
    },
    {
      "cell_type": "code",
      "source": [
        "from sklearn.metrics import precision_score, recall_score\n",
        "from sklearn.metrics import fbeta_score, f1_score\n",
        "from sklearn.metrics import roc_auc_score"
      ],
      "metadata": {
        "id": "JD5WnC9wjW1q"
      },
      "execution_count": null,
      "outputs": []
    },
    {
      "cell_type": "code",
      "source": [
        "model_stats = []\n",
        "for name, model in models.items():\n",
        "    \n",
        "    y_pred = model[\"model\"].predict(X_test)\n",
        "    model_stats.append([name, model[\"model\"].score(X_test, y_test),model[\"perf\"],precision_score(y_test, y_pred), recall_score(y_test, y_pred),f1_score(y_test, y_pred),fbeta_score(y_test, y_pred, beta = 2), roc_auc_score(y_test, y_pred)])\n",
        "    print(f'{name} appended to stats')   "
      ],
      "metadata": {
        "id": "O282oKwsjmQW"
      },
      "execution_count": null,
      "outputs": []
    },
    {
      "cell_type": "code",
      "source": [
        "df_stats = pd.DataFrame(model_stats)\n",
        "df_stats.columns = ['Model', 'Accuracy without scaling (test set)', 'Training time (sec)', 'Precision', 'Recall','F1 score', 'F2 score', 'ROC-AUC score']\n",
        "df_stats.sort_values(by = 'Accuracy without scaling (test set)', ascending = False, inplace=True)\n",
        "df_stats.reset_index(drop = True, inplace=True)\n",
        "df_stats"
      ],
      "metadata": {
        "id": "-TaZrXUSjmS1"
      },
      "execution_count": null,
      "outputs": []
    },
    {
      "cell_type": "code",
      "source": [
        "df_stats.to_csv('Oversampled_stats.csv')"
      ],
      "metadata": {
        "id": "KKX4bfObjmVe"
      },
      "execution_count": null,
      "outputs": []
    },
    {
      "cell_type": "code",
      "source": [],
      "metadata": {
        "id": "Po_o5IIdjuvh"
      },
      "execution_count": null,
      "outputs": []
    },
    {
      "cell_type": "code",
      "source": [],
      "metadata": {
        "id": "ngRERUcfjuyx"
      },
      "execution_count": null,
      "outputs": []
    }
  ]
}